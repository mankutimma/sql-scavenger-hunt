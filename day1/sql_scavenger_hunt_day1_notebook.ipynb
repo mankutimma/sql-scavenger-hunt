{
  "cells": [
    {
      "metadata": {
        "_uuid": "56f92656487e77f60088d9afe9969a878ac1ead5",
        "_cell_guid": "aac1eb7a-6eb0-4239-bf0c-7edf5dd242a1"
      },
      "cell_type": "markdown",
      "source": "<table>\n    <tr>\n        <td>\n        <center>\n        <font size=\"+1\">If you haven't used BigQuery datasets on Kaggle previously, check out the <a href = \"https://www.kaggle.com/rtatman/sql-scavenger-hunt-handbook/\">Scavenger Hunt Handbook</a> kernel to get started.</font>\n        </center>\n        </td>\n    </tr>\n</table>"
    },
    {
      "metadata": {
        "_uuid": "8710f8a626efbd27c8e53b723e97813fdd388822",
        "_cell_guid": "2fc58cbb-15ec-42e5-8f81-ca4cba5db07c"
      },
      "cell_type": "markdown",
      "source": "# SELECT, FROM & WHERE\n\nToday, we're going to learn how to use SELECT, FROM and WHERE to get data from a specific column based on the value of another column. For the purposes of this explanation, we'll be using this imaginary database, `pet_records` which has just one table in it, called `pets`, which looks like this:\n\n![](https://i.imgur.com/Ef4Puo3.png)\n\n### SELECT ... FROM\n___\n\nThe most basic SQL query is to select a single column from a specific table. To do this, you need to tell SELECT which column to select and then specify what table that column is from using from. \n\n> **Do you need to capitalize SELECT and FROM?** No, SQL doesn't care about capitalization. However, it's customary to capitalize your SQL commands and it makes your queries a bit easier to read.\n\nSo, if we wanted to select the \"Name\" column from the pets table of the pet_records database (if that database were accessible as a BigQuery dataset on Kaggle , which it is not, because I made it up), we would do this:\n\n    SELECT Name\n    FROM `bigquery-public-data.pet_records.pets`\n\nWhich would return the highlighted data from this figure.\n\n![](https://i.imgur.com/8FdVyFP.png)\n\n### WHERE ...\n___\n\nWhen you're working with BigQuery datasets, you're almost always going to want to return only certain rows, usually based on the value of a different column. You can do this using the WHERE clause, which will only return the rows where the WHERE clause evaluates to true.\n\nLet's look at an example:\n\n    SELECT Name\n    FROM `bigquery-public-data.pet_records.pets`\n    WHERE Animal = \"Cat\"\n\nThis query will only return the entries from the \"Name\" column that are in rows where the \"Animal\" column has the text \"Cat\" in it. Those are the cells highlighted in blue in this figure:\n\n![](https://i.imgur.com/Va52Qdl.png)\n"
    },
    {
      "metadata": {
        "_uuid": "0482e52934a735a43d562fe7beeabb85fe70e338",
        "_cell_guid": "2e2563a2-5b9d-42a4-8fa3-da4d4150b24d"
      },
      "cell_type": "markdown",
      "source": "## Example: What are all the U.S. cities in the OpenAQ dataset?\n___\n\nNow that you've got the basics down, let's work through an example with a real dataset. Today we're going to be working with the OpenAQ dataset, which has information on air quality around the world. (The data in it should be current: it's updated weekly.)\n\nTo help get you situated, I'm going to run through a complete query first. Then it will be your turn to get started running your queries!\n\nFirst, I'm going to set up everything we need to run queries and take a quick peek at what tables are in our database."
    },
    {
      "metadata": {
        "_uuid": "ab40ebc98c64c78df9a11d922bbc23573a43aefe",
        "_cell_guid": "9a26e7db-812d-4fbb-b457-e09d323af127",
        "trusted": true
      },
      "cell_type": "code",
      "source": "# import package with helper functions \nimport bq_helper\n\n# create a helper object for this dataset\nopen_aq = bq_helper.BigQueryHelper(active_project=\"bigquery-public-data\",\n                                   dataset_name=\"openaq\")\n\n# print all the tables in this dataset (there's only one!)\nopen_aq.list_tables()",
      "execution_count": 1,
      "outputs": [
        {
          "output_type": "execute_result",
          "execution_count": 1,
          "data": {
            "text/plain": "['global_air_quality']"
          },
          "metadata": {}
        }
      ]
    },
    {
      "metadata": {
        "_uuid": "0f5207bb8a05b44d1af2e002fde6260fb01baa1d",
        "_cell_guid": "cf3f3bd4-ef30-45d1-bdb3-5c8e7d3ec194"
      },
      "cell_type": "markdown",
      "source": "I'm going to take a peek at the first couple of rows to help me see what sort of data is in this dataset."
    },
    {
      "metadata": {
        "_uuid": "dad17f046aac83f2c219452e032fd72227ea3e7a",
        "_cell_guid": "d85ed84b-58b3-48c1-8ea6-4c89ad254bd8",
        "trusted": true
      },
      "cell_type": "code",
      "source": "# print the first couple rows of the \"global_air_quality\" dataset\nopen_aq.head(\"global_air_quality\")",
      "execution_count": 2,
      "outputs": [
        {
          "output_type": "execute_result",
          "execution_count": 2,
          "data": {
            "text/plain": "             location city country pollutant  value                 timestamp  \\\n0     Mobile_Cle Elum  037      US      pm25   0.00 2017-09-26 20:00:00+00:00   \n1  Mobile_WhiteSalmon  039      US      pm25   0.00 2017-09-26 20:00:00+00:00   \n2      Mobile_Newport  051      US      pm25   0.00 2017-09-21 18:00:00+00:00   \n3             FR20047  Ain      FR        o3   2.13 2018-02-13 07:00:00+00:00   \n4             FR20047  Ain      FR       no2  45.40 2018-02-13 07:00:00+00:00   \n\n    unit source_name   latitude   longitude  averaged_over_in_hours  \n0  µg/m³      AirNow  47.197630 -120.958230                     1.0  \n1  µg/m³      AirNow  45.732414 -121.492330                     1.0  \n2  µg/m³      AirNow  48.186485 -117.049160                     1.0  \n3  µg/m³  EEA France  45.823223    4.953958                     1.0  \n4  µg/m³  EEA France  45.823223    4.953958                     1.0  ",
            "text/html": "<div>\n<style>\n    .dataframe thead tr:only-child th {\n        text-align: right;\n    }\n\n    .dataframe thead th {\n        text-align: left;\n    }\n\n    .dataframe tbody tr th {\n        vertical-align: top;\n    }\n</style>\n<table border=\"1\" class=\"dataframe\">\n  <thead>\n    <tr style=\"text-align: right;\">\n      <th></th>\n      <th>location</th>\n      <th>city</th>\n      <th>country</th>\n      <th>pollutant</th>\n      <th>value</th>\n      <th>timestamp</th>\n      <th>unit</th>\n      <th>source_name</th>\n      <th>latitude</th>\n      <th>longitude</th>\n      <th>averaged_over_in_hours</th>\n    </tr>\n  </thead>\n  <tbody>\n    <tr>\n      <th>0</th>\n      <td>Mobile_Cle Elum</td>\n      <td>037</td>\n      <td>US</td>\n      <td>pm25</td>\n      <td>0.00</td>\n      <td>2017-09-26 20:00:00+00:00</td>\n      <td>µg/m³</td>\n      <td>AirNow</td>\n      <td>47.197630</td>\n      <td>-120.958230</td>\n      <td>1.0</td>\n    </tr>\n    <tr>\n      <th>1</th>\n      <td>Mobile_WhiteSalmon</td>\n      <td>039</td>\n      <td>US</td>\n      <td>pm25</td>\n      <td>0.00</td>\n      <td>2017-09-26 20:00:00+00:00</td>\n      <td>µg/m³</td>\n      <td>AirNow</td>\n      <td>45.732414</td>\n      <td>-121.492330</td>\n      <td>1.0</td>\n    </tr>\n    <tr>\n      <th>2</th>\n      <td>Mobile_Newport</td>\n      <td>051</td>\n      <td>US</td>\n      <td>pm25</td>\n      <td>0.00</td>\n      <td>2017-09-21 18:00:00+00:00</td>\n      <td>µg/m³</td>\n      <td>AirNow</td>\n      <td>48.186485</td>\n      <td>-117.049160</td>\n      <td>1.0</td>\n    </tr>\n    <tr>\n      <th>3</th>\n      <td>FR20047</td>\n      <td>Ain</td>\n      <td>FR</td>\n      <td>o3</td>\n      <td>2.13</td>\n      <td>2018-02-13 07:00:00+00:00</td>\n      <td>µg/m³</td>\n      <td>EEA France</td>\n      <td>45.823223</td>\n      <td>4.953958</td>\n      <td>1.0</td>\n    </tr>\n    <tr>\n      <th>4</th>\n      <td>FR20047</td>\n      <td>Ain</td>\n      <td>FR</td>\n      <td>no2</td>\n      <td>45.40</td>\n      <td>2018-02-13 07:00:00+00:00</td>\n      <td>µg/m³</td>\n      <td>EEA France</td>\n      <td>45.823223</td>\n      <td>4.953958</td>\n      <td>1.0</td>\n    </tr>\n  </tbody>\n</table>\n</div>"
          },
          "metadata": {}
        }
      ]
    },
    {
      "metadata": {
        "_uuid": "e70b02fc205ca45859a8520c211e11e3f46a3811",
        "_cell_guid": "c4cf499d-a495-4717-a390-523107b3e1b2"
      },
      "cell_type": "markdown",
      "source": "Great, everything looks good! Now that I'm set up, I'm going to put together a query. I want to select all the values from the \"city\" column for the rows there the \"country\" column is \"us\" (for \"United States\"). \n\n> **What's up with the triple quotation marks (\"\"\")?** These tell Python that everything inside them is a single string, even though we have line breaks in it. The line breaks aren't necessary, but they do make it much easier to read your query."
    },
    {
      "metadata": {
        "_uuid": "42f5bfb36cba82ccf9250a9c71077ce4154b4a32",
        "_cell_guid": "787efd2f-8f1e-4804-982c-4cd86888c56f",
        "collapsed": true,
        "trusted": true
      },
      "cell_type": "code",
      "source": "# query to select all the items from the \"city\" column where the\n# \"country\" column is \"us\"\nquery = \"\"\"SELECT city\n            FROM `bigquery-public-data.openaq.global_air_quality`\n            WHERE country = 'US'\n        \"\"\"",
      "execution_count": 3,
      "outputs": []
    },
    {
      "metadata": {
        "_uuid": "b16b54b3e2d1b478f9179d6e73f0660c6aa973d4",
        "_cell_guid": "baf936ce-7334-4038-9c6a-d2a8d2d4d8e4"
      },
      "cell_type": "markdown",
      "source": "> **Important:**  Note that the argument we pass to FROM is *not* in single or double quotation marks (' or \"). It is in backticks (\\`). If you use quotation marks instead of backticks, you'll get this error when you try to run the query: `Syntax error: Unexpected string literal` \n\nNow I can use this query to get information from our open_aq dataset. I'm using the `BigQueryHelper.query_to_pandas_safe()` method here because it won't run a query if it's larger than 1 gigabyte, which helps me avoid accidentally running a very large query. See the [Scavenger Hunt Handbook ](https://www.kaggle.com/rtatman/sql-scavenger-hunt-handbook/)for more details. "
    },
    {
      "metadata": {
        "_uuid": "ecde0a65fad06ef5d22d896484d8cbe05f874e12",
        "_cell_guid": "b37cf4b8-1d54-456b-9e52-8e139b166a6e",
        "collapsed": true,
        "trusted": true
      },
      "cell_type": "code",
      "source": "# the query_to_pandas_safe will only return a result if it's less\n# than one gigabyte (by default)\nus_cities = open_aq.query_to_pandas_safe(query)",
      "execution_count": 4,
      "outputs": []
    },
    {
      "metadata": {
        "_uuid": "5f3ff35c822b8809cf07180d15ad651bcad4eb46",
        "_cell_guid": "9f642ae3-1b06-479a-9e31-a0f21423ecaf"
      },
      "cell_type": "markdown",
      "source": "Now I've got a dataframe called us_cities, which I can use like I would any other dataframe:"
    },
    {
      "metadata": {
        "_uuid": "2d6b6cca96280cd1a4c4568c723fd35edff7fffa",
        "_cell_guid": "3bc9736e-9b18-44c2-9444-e0946cad8b79",
        "trusted": true
      },
      "cell_type": "code",
      "source": "# What five cities have the most measurements taken there?\nus_cities.city.value_counts().head()",
      "execution_count": 5,
      "outputs": [
        {
          "output_type": "execute_result",
          "execution_count": 5,
          "data": {
            "text/plain": "Phoenix-Mesa-Scottsdale                     85\nHouston                                     75\nLos Angeles-Long Beach-Santa Ana            60\nNew York-Northern New Jersey-Long Island    57\nRiverside-San Bernardino-Ontario            56\nName: city, dtype: int64"
          },
          "metadata": {}
        }
      ]
    },
    {
      "metadata": {
        "_kg_hide-output": true,
        "_uuid": "654d2baeecb8757e10d02a63ec6cc63fe2df2339",
        "_cell_guid": "fda0a223-5fd5-4524-a402-ecaef2905fa0"
      },
      "cell_type": "markdown",
      "source": "# Scavenger hunt\n___\n\nNow it's your turn! Here's the questions I would like you to get the data to answer:\n\n* Which countries use a unit other than ppm to measure any type of pollution? (Hint: to get rows where the value *isn't* something, use \"!=\")\n* Which pollutants have a value of exactly 0?\n\nIn order to answer these questions, you can fork this notebook by hitting the blue \"Fork Notebook\" at the very top of this page (you may have to scroll up).  \"Forking\" something is making a copy of it that you can edit on your own without changing the original."
    },
    {
      "metadata": {
        "_uuid": "b41bd59fea71556430259637f7f3edd61802fcdc",
        "_cell_guid": "8e7b4f7f-803a-4df2-8f3e-d7e2be5c232c"
      },
      "cell_type": "markdown",
      "source": "Let's list the table schema before proceeding. This will help us to form the correct query."
    },
    {
      "metadata": {
        "_uuid": "2dfc0a2a887d58e6364b6d0bab429d9d9b2383c7",
        "_cell_guid": "a01a3826-db58-43df-bf51-d761d6d82f6a",
        "trusted": true
      },
      "cell_type": "code",
      "source": "open_aq.table_schema(table_name=\"global_air_quality\")",
      "execution_count": 6,
      "outputs": [
        {
          "output_type": "execute_result",
          "execution_count": 6,
          "data": {
            "text/plain": "[SchemaField('location', 'string', 'NULLABLE', 'Location where data was measured', ()),\n SchemaField('city', 'string', 'NULLABLE', 'City containing location', ()),\n SchemaField('country', 'string', 'NULLABLE', 'Country containing measurement in 2 letter ISO code', ()),\n SchemaField('pollutant', 'string', 'NULLABLE', 'Name of the Pollutant being measured. Allowed values: PM25, PM10, SO2, NO2, O3, CO, BC', ()),\n SchemaField('value', 'float', 'NULLABLE', 'Latest measured value for the pollutant', ()),\n SchemaField('timestamp', 'timestamp', 'NULLABLE', 'The datetime at which the pollutant was measured, in ISO 8601 format', ()),\n SchemaField('unit', 'string', 'NULLABLE', 'The unit the value was measured in coded by UCUM Code', ()),\n SchemaField('source_name', 'string', 'NULLABLE', 'Name of the source of the data', ()),\n SchemaField('latitude', 'float', 'NULLABLE', 'Latitude in decimal degrees. Precision >3 decimal points.', ()),\n SchemaField('longitude', 'float', 'NULLABLE', 'Longitude in decimal degrees. Precision >3 decimal points.', ()),\n SchemaField('averaged_over_in_hours', 'float', 'NULLABLE', 'The number of hours the value was averaged over.', ())]"
          },
          "metadata": {}
        }
      ]
    },
    {
      "metadata": {
        "_uuid": "c346ce030dd69d682f91756fc9185ae7845066fb",
        "_cell_guid": "a4f6aab8-ae9b-4123-87e9-94aadf6a757c",
        "trusted": true
      },
      "cell_type": "code",
      "source": "# Your code goes here :)\n\n#Which countries use a unit other than ppm to measure any type of pollution?\nquery = \"\"\"SELECT country\n           FROM `bigquery-public-data.openaq.global_air_quality`\n           WHERE unit != \"ppm\"\n        \"\"\"\n\n#print(open_aq.estimate_query_size(query=query))\nno_ppm_countries = open_aq.query_to_pandas_safe(max_gb_scanned=0.5, query=query)\nprint(no_ppm_countries['country'].value_counts())",
      "execution_count": 7,
      "outputs": [
        {
          "output_type": "stream",
          "text": "FR    2638\nES    1876\nDE    1382\nUS    1267\nAT     789\nCZ     600\nTR     484\nCL     406\nGB     403\nCN     384\nBE     372\nIT     320\nNL     278\nIN     230\nPT     199\nBR     188\nNO     154\nTW     154\nAU     141\nSK     132\nMN     125\nRU     124\nHU     108\nFI     102\nCH      97\nHK      89\nCA      88\nBA      74\nMX      70\nMK      67\n      ... \nLU      26\nDK      26\nSE      24\nIE      24\nGH      22\nPE      21\nMT      18\nLV      13\nRS       8\nSI       8\nAD       7\nGI       6\nAR       4\nVN       3\nID       3\nZA       2\nNP       2\nBD       2\nET       2\nSG       1\nBH       1\nIL       1\nUG       1\nNG       1\nLK       1\nCO       1\nAE       1\nKW       1\nXK       1\nPH       1\nName: country, Length: 64, dtype: int64\n",
          "name": "stdout"
        }
      ]
    },
    {
      "metadata": {
        "_uuid": "52564918105aedaf93c62a7cedaec72ef4418832",
        "_cell_guid": "c787f87e-ebe7-4401-a3a8-d19bf8a2e70f"
      },
      "cell_type": "markdown",
      "source": "So, above are all the countries that use 'ppm' as a unit and seems like FR(France?) uses it the most!"
    },
    {
      "metadata": {
        "_uuid": "efe34c6c10c05204e3d6d94526c9db7b8dadba8a",
        "_cell_guid": "ea6a36a9-774f-4d71-9484-94d04f4c44fd",
        "trusted": true
      },
      "cell_type": "code",
      "source": "#Which pollutants have a value of exactly 0?\n\nquery = \"\"\"SELECT pollutant\n           FROM `bigquery-public-data.openaq.global_air_quality`\n           WHERE value = 0.00\n        \"\"\"\n\npollutants_with_value_0 = open_aq.query_to_pandas_safe(query=query) #default max_gb_scanned is 1\npollutants_with_value_0[\"pollutant\"].value_counts()",
      "execution_count": 8,
      "outputs": [
        {
          "output_type": "execute_result",
          "execution_count": 8,
          "data": {
            "text/plain": "so2     346\nno2     118\no3      110\nco      100\npm10     72\npm25     64\nName: pollutant, dtype: int64"
          },
          "metadata": {}
        }
      ]
    },
    {
      "metadata": {
        "_uuid": "3317d76bb931d0a0146f13564d2e90120044a0b3",
        "_cell_guid": "f2caa37b-fe06-4bf1-9225-d332631f3f0c"
      },
      "cell_type": "markdown",
      "source": "The above 7 pollutants have a value of 0.00"
    },
    {
      "metadata": {
        "_uuid": "b0f920e6fc8e371f7b4ad10ff7015526552a19d5",
        "_cell_guid": "a2313b92-8f03-41e3-a28b-99a0f54397b2"
      },
      "cell_type": "markdown",
      "source": "Please feel free to ask any questions you have in this notebook or in the [Q&A forums](https://www.kaggle.com/questions-and-answers)! \n\nAlso, if you want to share or get comments on your kernel, remember you need to make it public first! You can change the visibility of your kernel under the \"Settings\" tab, on the right half of your screen."
    },
    {
      "metadata": {
        "trusted": true,
        "collapsed": true,
        "_uuid": "81b5b38fccfbb6b547863ccd79280d9c26622208"
      },
      "cell_type": "code",
      "source": "",
      "execution_count": null,
      "outputs": []
    }
  ],
  "metadata": {
    "kernelspec": {
      "display_name": "Python 3",
      "language": "python",
      "name": "python3"
    },
    "language_info": {
      "name": "python",
      "version": "3.6.4",
      "mimetype": "text/x-python",
      "codemirror_mode": {
        "name": "ipython",
        "version": 3
      },
      "pygments_lexer": "ipython3",
      "nbconvert_exporter": "python",
      "file_extension": ".py"
    }
  },
  "nbformat": 4,
  "nbformat_minor": 1
}